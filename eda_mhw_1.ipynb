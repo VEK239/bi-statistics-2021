{
 "cells": [
  {
   "cell_type": "code",
   "execution_count": 1,
   "metadata": {},
   "outputs": [],
   "source": [
    "import pandas as pd\n",
    "import matplotlib.pyplot as plt\n",
    "from scipy.stats import skew, kurtosis, mode\n",
    "from scipy.stats.stats import pearsonr"
   ]
  },
  {
   "cell_type": "markdown",
   "metadata": {},
   "source": [
    "Let's first read the dataset and check if there any NaNs."
   ]
  },
  {
   "cell_type": "code",
   "execution_count": 2,
   "metadata": {},
   "outputs": [],
   "source": [
    "df = pd.read_csv(\"var_2.csv\", index_col=0)"
   ]
  },
  {
   "cell_type": "code",
   "execution_count": 3,
   "metadata": {},
   "outputs": [
    {
     "data": {
      "text/html": [
       "<div>\n",
       "<style scoped>\n",
       "    .dataframe tbody tr th:only-of-type {\n",
       "        vertical-align: middle;\n",
       "    }\n",
       "\n",
       "    .dataframe tbody tr th {\n",
       "        vertical-align: top;\n",
       "    }\n",
       "\n",
       "    .dataframe thead th {\n",
       "        text-align: right;\n",
       "    }\n",
       "</style>\n",
       "<table border=\"1\" class=\"dataframe\">\n",
       "  <thead>\n",
       "    <tr style=\"text-align: right;\">\n",
       "      <th></th>\n",
       "      <th>0</th>\n",
       "      <th>1</th>\n",
       "      <th>2</th>\n",
       "      <th>3</th>\n",
       "      <th>4</th>\n",
       "    </tr>\n",
       "  </thead>\n",
       "  <tbody>\n",
       "    <tr>\n",
       "      <th>0</th>\n",
       "      <td>42508.106940</td>\n",
       "      <td>-0.360718</td>\n",
       "      <td>0.125528</td>\n",
       "      <td>5.515998</td>\n",
       "      <td>15.994966</td>\n",
       "    </tr>\n",
       "    <tr>\n",
       "      <th>1</th>\n",
       "      <td>2679.524094</td>\n",
       "      <td>0.337659</td>\n",
       "      <td>0.108331</td>\n",
       "      <td>18.058783</td>\n",
       "      <td>68.720268</td>\n",
       "    </tr>\n",
       "    <tr>\n",
       "      <th>2</th>\n",
       "      <td>14631.233652</td>\n",
       "      <td>-0.009868</td>\n",
       "      <td>0.012254</td>\n",
       "      <td>26.712167</td>\n",
       "      <td>79.022925</td>\n",
       "    </tr>\n",
       "    <tr>\n",
       "      <th>3</th>\n",
       "      <td>24716.613413</td>\n",
       "      <td>-0.085418</td>\n",
       "      <td>0.077496</td>\n",
       "      <td>-0.084518</td>\n",
       "      <td>32.696152</td>\n",
       "    </tr>\n",
       "    <tr>\n",
       "      <th>4</th>\n",
       "      <td>102.401604</td>\n",
       "      <td>0.411524</td>\n",
       "      <td>0.152678</td>\n",
       "      <td>25.323752</td>\n",
       "      <td>91.281839</td>\n",
       "    </tr>\n",
       "  </tbody>\n",
       "</table>\n",
       "</div>"
      ],
      "text/plain": [
       "              0         1         2          3          4\n",
       "0  42508.106940 -0.360718  0.125528   5.515998  15.994966\n",
       "1   2679.524094  0.337659  0.108331  18.058783  68.720268\n",
       "2  14631.233652 -0.009868  0.012254  26.712167  79.022925\n",
       "3  24716.613413 -0.085418  0.077496  -0.084518  32.696152\n",
       "4    102.401604  0.411524  0.152678  25.323752  91.281839"
      ]
     },
     "execution_count": 3,
     "metadata": {},
     "output_type": "execute_result"
    }
   ],
   "source": [
    "df.head()"
   ]
  },
  {
   "cell_type": "code",
   "execution_count": 4,
   "metadata": {},
   "outputs": [
    {
     "data": {
      "text/plain": [
       "0    0\n",
       "1    0\n",
       "2    0\n",
       "3    0\n",
       "4    0\n",
       "dtype: int64"
      ]
     },
     "execution_count": 4,
     "metadata": {},
     "output_type": "execute_result"
    }
   ],
   "source": [
    "df.isna().sum()"
   ]
  },
  {
   "cell_type": "markdown",
   "metadata": {},
   "source": [
    "There aren't any NaNs. Let's print some basic statistics and histograms for the given distributions"
   ]
  },
  {
   "cell_type": "code",
   "execution_count": 5,
   "metadata": {
    "scrolled": false
   },
   "outputs": [
    {
     "name": "stdout",
     "output_type": "stream",
     "text": [
      "Getting statistics for 0\n",
      "Mean: 22056.79335423181\n",
      "Sample variance: 682912073.5411371\n",
      "Unbiased variance: 685518608.1729735\n",
      "Skew coeff: 1.5041058111280077\n",
      "Kurtosis coeff: 1.3325539716176094\n",
      "Median: 13296.635148784038\n"
     ]
    },
    {
     "data": {
      "image/png": "[encoded data removed]",
      "text/plain": [
       "<Figure size 432x288 with 1 Axes>"
      ]
     },
     "metadata": {
      "needs_background": "light"
     },
     "output_type": "display_data"
    },
    {
     "name": "stdout",
     "output_type": "stream",
     "text": [
      "===================================\n",
      "Getting statistics for 1\n",
      "Mean: -0.024045498760075026\n",
      "Sample variance: 0.08210285853696174\n",
      "Unbiased variance: 0.08241622822603412\n",
      "Skew coeff: 0.10883520578011423\n",
      "Kurtosis coeff: -1.1785593722234087\n",
      "Median: -0.048946244464822215\n"
     ]
    },
    {
     "data": {
      "image/png": "[encoded data removed]",
      "text/plain": [
       "<Figure size 432x288 with 1 Axes>"
      ]
     },
     "metadata": {
      "needs_background": "light"
     },
     "output_type": "display_data"
    },
    {
     "name": "stdout",
     "output_type": "stream",
     "text": [
      "===================================\n",
      "Getting statistics for 2\n",
      "Mean: 0.08947157801511883\n",
      "Sample variance: 0.00793609014028655\n",
      "Unbiased variance: 0.007966380560669322\n",
      "Skew coeff: 0.30664838747350887\n",
      "Kurtosis coeff: -0.5281923673684639\n",
      "Median: 0.08046629777425576\n"
     ]
    },
    {
     "data": {
      "image/png": "[encoded data removed]",
      "text/plain": [
       "<Figure size 432x288 with 1 Axes>"
      ]
     },
     "metadata": {
      "needs_background": "light"
     },
     "output_type": "display_data"
    },
    {
     "name": "stdout",
     "output_type": "stream",
     "text": [
      "===================================\n",
      "Getting statistics for 3\n",
      "Mean: 12.385793548192698\n",
      "Sample variance: 80.64806480518831\n",
      "Unbiased variance: 80.95588184642949\n",
      "Skew coeff: -0.2949117484257628\n",
      "Kurtosis coeff: -1.2537828500450918\n",
      "Median: 15.1673150652617\n"
     ]
    },
    {
     "data": {
      "image/png": "[encoded data removed]",
      "text/plain": [
       "<Figure size 432x288 with 1 Axes>"
      ]
     },
     "metadata": {
      "needs_background": "light"
     },
     "output_type": "display_data"
    },
    {
     "name": "stdout",
     "output_type": "stream",
     "text": [
      "===================================\n",
      "Getting statistics for 4\n",
      "Mean: 57.97757167632925\n",
      "Sample variance: 961.3797785072887\n",
      "Unbiased variance: 965.0491669748739\n",
      "Skew coeff: -0.31978006466970976\n",
      "Kurtosis coeff: -1.324681303797752\n",
      "Median: 66.72077764398372\n"
     ]
    },
    {
     "data": {
      "image/png": "[encoded data removed]",
      "text/plain": [
       "<Figure size 432x288 with 1 Axes>"
      ]
     },
     "metadata": {
      "needs_background": "light"
     },
     "output_type": "display_data"
    },
    {
     "name": "stdout",
     "output_type": "stream",
     "text": [
      "===================================\n"
     ]
    }
   ],
   "source": [
    "for column_name in range(5):\n",
    "    print(f'Getting statistics for {column_name}')\n",
    "    col = df[str(column_name)]\n",
    "    n = len(col)\n",
    "    print(f'Mean: {col.mean()}')\n",
    "    print(f'Sample variance: {col.var() * (n - 1) / n}')\n",
    "    print(f'Unbiased variance: {col.var()}')\n",
    "    print(f'Skew coeff: {skew(col)}')\n",
    "    print(f'Kurtosis coeff: {kurtosis(col)}')\n",
    "    print(f'Median: {col.median()}')\n",
    "    col.hist()\n",
    "    plt.show()\n",
    "    print(\"===================================\")"
   ]
  },
  {
   "cell_type": "markdown",
   "metadata": {},
   "source": [
    "Now let's check the corrlation. The pearson's correlation is the best way to do it. \n",
    "As you can see, the columns 3 and 4 are strongly correlated."
   ]
  },
  {
   "cell_type": "code",
   "execution_count": 6,
   "metadata": {},
   "outputs": [
    {
     "name": "stdout",
     "output_type": "stream",
     "text": [
      "Correlation coefficient between columns 0 and 1 is -0.08\n",
      "Correlation coefficient between columns 0 and 2 is -0.05\n",
      "Correlation coefficient between columns 0 and 3 is -0.11\n",
      "Correlation coefficient between columns 0 and 4 is -0.04\n",
      "Correlation coefficient between columns 1 and 2 is -0.15\n",
      "Correlation coefficient between columns 1 and 3 is 0.05\n",
      "Correlation coefficient between columns 1 and 4 is 0.05\n",
      "Correlation coefficient between columns 2 and 3 is 0.07\n",
      "Correlation coefficient between columns 2 and 4 is 0.03\n",
      "Correlation coefficient between columns 3 and 4 is 0.77\n"
     ]
    }
   ],
   "source": [
    "for cn1 in range(5):\n",
    "    for cn2 in range(cn1 + 1, 5):\n",
    "        col1 = df[str(cn1)]\n",
    "        col2 = df[str(cn2)]\n",
    "        print(f'Correlation coefficient between columns {cn1} and {cn2} is {round(pearsonr(col1, col2)[0], 2)}')"
   ]
  },
  {
   "cell_type": "code",
   "execution_count": null,
   "metadata": {},
   "outputs": [],
   "source": []
  }
 ],
 "metadata": {
  "kernelspec": {
   "display_name": "chemvae",
   "language": "python",
   "name": "chemvae"
  },
  "language_info": {
   "codemirror_mode": {
    "name": "ipython",
    "version": 3
   },
   "file_extension": ".py",
   "mimetype": "text/x-python",
   "name": "python",
   "nbconvert_exporter": "python",
   "pygments_lexer": "ipython3",
   "version": "3.6.10"
  }
 },
 "nbformat": 4,
 "nbformat_minor": 4
}
